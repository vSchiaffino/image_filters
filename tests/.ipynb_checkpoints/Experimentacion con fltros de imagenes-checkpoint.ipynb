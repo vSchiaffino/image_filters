{
 "cells": [
  {
   "cell_type": "markdown",
   "metadata": {},
   "source": [
    "# Experimentación con filtros de imagenes.\n",
    "Para analizar el uso de threads en los filtros de imágenes podemos contemplar varios factores: **Cantidad de threads**, **tipo de filtro**, **tamaño de imagen** y **hardware usado**. Cada factor, inicialmente, se va a contemplar de forma aislada para poder tener una visión separada de cada parámetro y poder encontrar la forma óptima de usar los filtros. A su vez, más adelante se van a mezclar algunos parámetros para poder seguir sacando conclusiones.\n",
    "## Tamaño de imagen\n",
    "Mi hipótesis inicial es que, claramente mientras mas grande sea la imagen más tiempo va a tardar en aplicar el filtro seleccionado. Pero igualmente voy a comprobarlo. Tengo preparadas 10 imagenes desde 100x100 pixeles hasta 1000x1000 pixeles avanzando de 100 en 100. Para tener mayor exactitud voy a probarlo 50 veces con cada imagen\n"
   ]
  },
  {
   "cell_type": "code",
   "execution_count": 71,
   "metadata": {},
   "outputs": [],
   "source": [
    "# preparaciones iniciales\n",
    "import os\n",
    "import pandas\n",
    "import matplotlib.pyplot as plt\n",
    "import numpy as np\n",
    "! echo \"\" > ../out/stats.csv\n",
    "\n",
    "def plot(ths, time, std, title, xlabel, ylabel):\n",
    "\n",
    "    fig, ax = plt.subplots()\n",
    "    ax.plot(ths, time,'b-', color='blue')\n",
    "    if np.any(std) != 0:\n",
    "        ax.fill_between(ths, time-std, time+std, color='turquoise')\n",
    "\n",
    "\n",
    "    ax.set(xlabel=xlabel, ylabel=ylabel,\n",
    "           title=title)\n",
    "    ax.grid()\n",
    "\n",
    "    fig.savefig(\"test.png\")\n",
    "    plt.show()"
   ]
  },
  {
   "cell_type": "code",
   "execution_count": 66,
   "metadata": {},
   "outputs": [],
   "source": [
    "# ejecuto los tests\n",
    "for i in range(1, 11):\n",
    "    w = i * 100\n",
    "    f = f\"../img/{w}.ppm\"\n",
    "    os.system(f\"../out/a.out br 1 {f} .5\")"
   ]
  },
  {
   "cell_type": "code",
   "execution_count": 67,
   "metadata": {},
   "outputs": [
    {
     "data": {
      "text/html": [
       "<div>\n",
       "<style scoped>\n",
       "    .dataframe tbody tr th:only-of-type {\n",
       "        vertical-align: middle;\n",
       "    }\n",
       "\n",
       "    .dataframe tbody tr th {\n",
       "        vertical-align: top;\n",
       "    }\n",
       "\n",
       "    .dataframe thead th {\n",
       "        text-align: right;\n",
       "    }\n",
       "</style>\n",
       "<table border=\"1\" class=\"dataframe\">\n",
       "  <thead>\n",
       "    <tr style=\"text-align: right;\">\n",
       "      <th></th>\n",
       "      <th>Threads</th>\n",
       "      <th>Time</th>\n",
       "      <th>Tamaño imagen</th>\n",
       "    </tr>\n",
       "  </thead>\n",
       "  <tbody>\n",
       "    <tr>\n",
       "      <th>0</th>\n",
       "      <td>1</td>\n",
       "      <td>0.001062</td>\n",
       "      <td>10000</td>\n",
       "    </tr>\n",
       "    <tr>\n",
       "      <th>1</th>\n",
       "      <td>1</td>\n",
       "      <td>0.005429</td>\n",
       "      <td>40000</td>\n",
       "    </tr>\n",
       "    <tr>\n",
       "      <th>2</th>\n",
       "      <td>1</td>\n",
       "      <td>0.008856</td>\n",
       "      <td>90000</td>\n",
       "    </tr>\n",
       "    <tr>\n",
       "      <th>3</th>\n",
       "      <td>1</td>\n",
       "      <td>0.016093</td>\n",
       "      <td>160000</td>\n",
       "    </tr>\n",
       "    <tr>\n",
       "      <th>4</th>\n",
       "      <td>1</td>\n",
       "      <td>0.025143</td>\n",
       "      <td>250000</td>\n",
       "    </tr>\n",
       "    <tr>\n",
       "      <th>5</th>\n",
       "      <td>1</td>\n",
       "      <td>0.036162</td>\n",
       "      <td>360000</td>\n",
       "    </tr>\n",
       "    <tr>\n",
       "      <th>6</th>\n",
       "      <td>1</td>\n",
       "      <td>0.049605</td>\n",
       "      <td>490000</td>\n",
       "    </tr>\n",
       "    <tr>\n",
       "      <th>7</th>\n",
       "      <td>1</td>\n",
       "      <td>0.065468</td>\n",
       "      <td>640000</td>\n",
       "    </tr>\n",
       "    <tr>\n",
       "      <th>8</th>\n",
       "      <td>1</td>\n",
       "      <td>0.080716</td>\n",
       "      <td>810000</td>\n",
       "    </tr>\n",
       "    <tr>\n",
       "      <th>9</th>\n",
       "      <td>1</td>\n",
       "      <td>0.099345</td>\n",
       "      <td>1000000</td>\n",
       "    </tr>\n",
       "  </tbody>\n",
       "</table>\n",
       "</div>"
      ],
      "text/plain": [
       "   Threads      Time  Tamaño imagen\n",
       "0        1  0.001062          10000\n",
       "1        1  0.005429          40000\n",
       "2        1  0.008856          90000\n",
       "3        1  0.016093         160000\n",
       "4        1  0.025143         250000\n",
       "5        1  0.036162         360000\n",
       "6        1  0.049605         490000\n",
       "7        1  0.065468         640000\n",
       "8        1  0.080716         810000\n",
       "9        1  0.099345        1000000"
      ]
     },
     "execution_count": 67,
     "metadata": {},
     "output_type": "execute_result"
    }
   ],
   "source": [
    "# levanto los datos\n",
    "dataframe = pandas.read_csv(\"../out/stats.csv\", names=[\"Threads\", \"Time\", \"Tamaño imagen\"])\n",
    "dataframe"
   ]
  },
  {
   "cell_type": "code",
   "execution_count": 76,
   "metadata": {},
   "outputs": [
    {
     "data": {
      "image/png": "[encoded data removed]",
      "text/plain": [
       "<Figure size 432x288 with 1 Axes>"
      ]
     },
     "metadata": {
      "needs_background": "light"
     },
     "output_type": "display_data"
    }
   ],
   "source": [
    "plot(dataframe.groupby(\"Tamaño imagen\")[\"Tamaño imagen\"],\n",
    "     dataframe.groupby(\"Tamaño imagen\")[\"Time\"].mean(),\n",
    "     datafrane.groupby(\"Tamaño imagen\")[\"Time\"].std(),\n",
    "     \"Performance del filtro del brillo segun el tamaño\",\n",
    "     \"Tamaño imagen (pix totales / 10 000 000)\",\n",
    "     \"Tiempo (s)\")"
   ]
  },
  {
   "cell_type": "code",
   "execution_count": null,
   "metadata": {},
   "outputs": [],
   "source": []
  }
 ],
 "metadata": {
  "kernelspec": {
   "display_name": "Python 3",
   "language": "python",
   "name": "python3"
  },
  "language_info": {
   "codemirror_mode": {
    "name": "ipython",
    "version": 3
   },
   "file_extension": ".py",
   "mimetype": "text/x-python",
   "name": "python",
   "nbconvert_exporter": "python",
   "pygments_lexer": "ipython3",
   "version": "3.6.9"
  }
 },
 "nbformat": 4,
 "nbformat_minor": 4
}
