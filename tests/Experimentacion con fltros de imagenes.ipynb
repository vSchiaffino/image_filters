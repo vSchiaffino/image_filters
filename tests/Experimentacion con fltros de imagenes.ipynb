{
 "cells": [
  {
   "cell_type": "markdown",
   "metadata": {},
   "source": [
    "# Experimentación con filtros de imagenes.\n",
    "Para analizar el uso de threads en los filtros de imágenes podemos contemplar varios factores: **Cantidad de threads**, **tipo de filtro**, **tamaño de imagen** y **hardware usado**. Cada factor, inicialmente, se va a contemplar de forma aislada para poder tener una visión separada de cada parámetro y poder encontrar la forma óptima de usar los filtros. A su vez, más adelante se van a mezclar algunos parámetros para poder seguir sacando conclusiones.\n",
    "## Tamaño de imagen\n",
    "Mi hipótesis inicial es que, claramente mientras mas grande sea la imagen más tiempo va a tardar en aplicar el filtro seleccionado. Pero igualmente voy a comprobarlo. Tengo preparadas 10 imagenes desde 100x100 pixeles hasta 1000x1000 pixeles avanzando de 100 en 100. Para tener mayor exactitud voy a probarlo 50 veces con cada imagen\n"
   ]
  },
  {
   "cell_type": "code",
   "execution_count": 1,
   "metadata": {},
   "outputs": [],
   "source": [
    "# preparaciones iniciales\n",
    "import os\n",
    "import pandas\n",
    "import matplotlib.pyplot as plt\n",
    "import numpy as np\n",
    "! echo \"\" > ../out/stats.csv\n",
    "\n",
    "def plot(ths, time, std, title, xlabel, ylabel):\n",
    "\n",
    "    fig, ax = plt.subplots()\n",
    "    ax.plot(ths, time,'b-', color='blue')\n",
    "    if np.any(std) != 0:\n",
    "        ax.fill_between(ths, time-std, time+std, color='turquoise')\n",
    "\n",
    "\n",
    "    ax.set(xlabel=xlabel, ylabel=ylabel,\n",
    "           title=title)\n",
    "    ax.grid()\n",
    "\n",
    "    fig.savefig(\"test.png\")\n",
    "    plt.show()"
   ]
  },
  {
   "cell_type": "code",
   "execution_count": 2,
   "metadata": {},
   "outputs": [],
   "source": [
    "# ejecuto los tests\n",
    "for i in range(1, 11):\n",
    "    for _ in range(50):\n",
    "        w = i * 100\n",
    "        f = f\"../img/{w}.ppm\"\n",
    "        os.system(f\"../out/a.out br 1 {f} .5\")"
   ]
  },
  {
   "cell_type": "code",
   "execution_count": 3,
   "metadata": {},
   "outputs": [
    {
     "data": {
      "text/html": [
       "<div>\n",
       "<style scoped>\n",
       "    .dataframe tbody tr th:only-of-type {\n",
       "        vertical-align: middle;\n",
       "    }\n",
       "\n",
       "    .dataframe tbody tr th {\n",
       "        vertical-align: top;\n",
       "    }\n",
       "\n",
       "    .dataframe thead th {\n",
       "        text-align: right;\n",
       "    }\n",
       "</style>\n",
       "<table border=\"1\" class=\"dataframe\">\n",
       "  <thead>\n",
       "    <tr style=\"text-align: right;\">\n",
       "      <th></th>\n",
       "      <th>Threads</th>\n",
       "      <th>Time</th>\n",
       "      <th>Tamaño imagen</th>\n",
       "    </tr>\n",
       "  </thead>\n",
       "  <tbody>\n",
       "    <tr>\n",
       "      <th>0</th>\n",
       "      <td>1</td>\n",
       "      <td>0.001020</td>\n",
       "      <td>10000</td>\n",
       "    </tr>\n",
       "    <tr>\n",
       "      <th>1</th>\n",
       "      <td>1</td>\n",
       "      <td>0.002224</td>\n",
       "      <td>10000</td>\n",
       "    </tr>\n",
       "    <tr>\n",
       "      <th>2</th>\n",
       "      <td>1</td>\n",
       "      <td>0.002226</td>\n",
       "      <td>10000</td>\n",
       "    </tr>\n",
       "    <tr>\n",
       "      <th>3</th>\n",
       "      <td>1</td>\n",
       "      <td>0.001810</td>\n",
       "      <td>10000</td>\n",
       "    </tr>\n",
       "    <tr>\n",
       "      <th>4</th>\n",
       "      <td>1</td>\n",
       "      <td>0.001983</td>\n",
       "      <td>10000</td>\n",
       "    </tr>\n",
       "    <tr>\n",
       "      <th>...</th>\n",
       "      <td>...</td>\n",
       "      <td>...</td>\n",
       "      <td>...</td>\n",
       "    </tr>\n",
       "    <tr>\n",
       "      <th>495</th>\n",
       "      <td>1</td>\n",
       "      <td>0.098465</td>\n",
       "      <td>1000000</td>\n",
       "    </tr>\n",
       "    <tr>\n",
       "      <th>496</th>\n",
       "      <td>1</td>\n",
       "      <td>0.098184</td>\n",
       "      <td>1000000</td>\n",
       "    </tr>\n",
       "    <tr>\n",
       "      <th>497</th>\n",
       "      <td>1</td>\n",
       "      <td>0.098215</td>\n",
       "      <td>1000000</td>\n",
       "    </tr>\n",
       "    <tr>\n",
       "      <th>498</th>\n",
       "      <td>1</td>\n",
       "      <td>0.096247</td>\n",
       "      <td>1000000</td>\n",
       "    </tr>\n",
       "    <tr>\n",
       "      <th>499</th>\n",
       "      <td>1</td>\n",
       "      <td>0.098300</td>\n",
       "      <td>1000000</td>\n",
       "    </tr>\n",
       "  </tbody>\n",
       "</table>\n",
       "<p>500 rows × 3 columns</p>\n",
       "</div>"
      ],
      "text/plain": [
       "     Threads      Time  Tamaño imagen\n",
       "0          1  0.001020          10000\n",
       "1          1  0.002224          10000\n",
       "2          1  0.002226          10000\n",
       "3          1  0.001810          10000\n",
       "4          1  0.001983          10000\n",
       "..       ...       ...            ...\n",
       "495        1  0.098465        1000000\n",
       "496        1  0.098184        1000000\n",
       "497        1  0.098215        1000000\n",
       "498        1  0.096247        1000000\n",
       "499        1  0.098300        1000000\n",
       "\n",
       "[500 rows x 3 columns]"
      ]
     },
     "execution_count": 3,
     "metadata": {},
     "output_type": "execute_result"
    }
   ],
   "source": [
    "# levanto los datos\n",
    "dataframe = pandas.read_csv(\"../out/stats.csv\", names=[\"Threads\", \"Time\", \"Tamaño imagen\"])\n",
    "dataframe"
   ]
  },
  {
   "cell_type": "code",
   "execution_count": 4,
   "metadata": {},
   "outputs": [
    {
     "data": {
      "image/png": "[encoded data removed]",
      "text/plain": [
       "<Figure size 432x288 with 1 Axes>"
      ]
     },
     "metadata": {
      "needs_background": "light"
     },
     "output_type": "display_data"
    }
   ],
   "source": [
    "plot(np.array(range(1, 1000, 100)),\n",
    "     dataframe.groupby(\"Tamaño imagen\")[\"Time\"].mean(),\n",
    "     dataframe.groupby(\"Tamaño imagen\")[\"Time\"].std(),\n",
    "     \"Performance del filtro del brillo segun el tamaño\",\n",
    "     \"Tamaño imagen(width and height)\",\n",
    "     \"Tiempo (s)\")"
   ]
  },
  {
   "cell_type": "markdown",
   "metadata": {},
   "source": [
    "Claramente mientras mas grande sea la imagen, más tiempo va a costar procesarla.\n",
    "## Cantidad de threads\n",
    "Ahora voy a comprobar como cambia el tiempo de procesamiento si agregamos cada vez más threads, la primera hipótesis que se me ocurre es que mientras más threads, más performance, pero también es verdad que hay que contemplar que el thread tarda un tiempo en crearse, además del \"precio\" que hay que pagar del context switch. Igualmente, voy a correr los tests para estar seguros."
   ]
  },
  {
   "cell_type": "code",
   "execution_count": 14,
   "metadata": {},
   "outputs": [],
   "source": [
    "# ejecuto los tests\n",
    "! echo \"\" > ../out/stats.csv\n",
    "for i in range(1, 21):\n",
    "    for _ in range(20):\n",
    "        f = f\"../img/800.ppm\"\n",
    "        os.system(f\"../out/a.out br {i} {f} .5\")"
   ]
  },
  {
   "cell_type": "code",
   "execution_count": 12,
   "metadata": {},
   "outputs": [
    {
     "data": {
      "text/html": [
       "<div>\n",
       "<style scoped>\n",
       "    .dataframe tbody tr th:only-of-type {\n",
       "        vertical-align: middle;\n",
       "    }\n",
       "\n",
       "    .dataframe tbody tr th {\n",
       "        vertical-align: top;\n",
       "    }\n",
       "\n",
       "    .dataframe thead th {\n",
       "        text-align: right;\n",
       "    }\n",
       "</style>\n",
       "<table border=\"1\" class=\"dataframe\">\n",
       "  <thead>\n",
       "    <tr style=\"text-align: right;\">\n",
       "      <th></th>\n",
       "      <th>Threads</th>\n",
       "      <th>Time</th>\n",
       "      <th>Tamaño imagen</th>\n",
       "    </tr>\n",
       "  </thead>\n",
       "  <tbody>\n",
       "    <tr>\n",
       "      <th>0</th>\n",
       "      <td>1</td>\n",
       "      <td>0.063699</td>\n",
       "      <td>640000</td>\n",
       "    </tr>\n",
       "    <tr>\n",
       "      <th>1</th>\n",
       "      <td>1</td>\n",
       "      <td>0.061521</td>\n",
       "      <td>640000</td>\n",
       "    </tr>\n",
       "    <tr>\n",
       "      <th>2</th>\n",
       "      <td>1</td>\n",
       "      <td>0.062720</td>\n",
       "      <td>640000</td>\n",
       "    </tr>\n",
       "    <tr>\n",
       "      <th>3</th>\n",
       "      <td>1</td>\n",
       "      <td>0.061652</td>\n",
       "      <td>640000</td>\n",
       "    </tr>\n",
       "    <tr>\n",
       "      <th>4</th>\n",
       "      <td>1</td>\n",
       "      <td>0.067338</td>\n",
       "      <td>640000</td>\n",
       "    </tr>\n",
       "    <tr>\n",
       "      <th>...</th>\n",
       "      <td>...</td>\n",
       "      <td>...</td>\n",
       "      <td>...</td>\n",
       "    </tr>\n",
       "    <tr>\n",
       "      <th>995</th>\n",
       "      <td>20</td>\n",
       "      <td>0.061708</td>\n",
       "      <td>640000</td>\n",
       "    </tr>\n",
       "    <tr>\n",
       "      <th>996</th>\n",
       "      <td>20</td>\n",
       "      <td>0.061835</td>\n",
       "      <td>640000</td>\n",
       "    </tr>\n",
       "    <tr>\n",
       "      <th>997</th>\n",
       "      <td>20</td>\n",
       "      <td>0.062414</td>\n",
       "      <td>640000</td>\n",
       "    </tr>\n",
       "    <tr>\n",
       "      <th>998</th>\n",
       "      <td>20</td>\n",
       "      <td>0.061982</td>\n",
       "      <td>640000</td>\n",
       "    </tr>\n",
       "    <tr>\n",
       "      <th>999</th>\n",
       "      <td>20</td>\n",
       "      <td>0.061949</td>\n",
       "      <td>640000</td>\n",
       "    </tr>\n",
       "  </tbody>\n",
       "</table>\n",
       "<p>1000 rows × 3 columns</p>\n",
       "</div>"
      ],
      "text/plain": [
       "     Threads      Time  Tamaño imagen\n",
       "0          1  0.063699         640000\n",
       "1          1  0.061521         640000\n",
       "2          1  0.062720         640000\n",
       "3          1  0.061652         640000\n",
       "4          1  0.067338         640000\n",
       "..       ...       ...            ...\n",
       "995       20  0.061708         640000\n",
       "996       20  0.061835         640000\n",
       "997       20  0.062414         640000\n",
       "998       20  0.061982         640000\n",
       "999       20  0.061949         640000\n",
       "\n",
       "[1000 rows x 3 columns]"
      ]
     },
     "execution_count": 12,
     "metadata": {},
     "output_type": "execute_result"
    }
   ],
   "source": [
    "# levanto los datos\n",
    "dataframe = pandas.read_csv(\"../out/stats.csv\", names=[\"Threads\", \"Time\", \"Tamaño imagen\"])\n",
    "dataframe"
   ]
  },
  {
   "cell_type": "code",
   "execution_count": 13,
   "metadata": {},
   "outputs": [
    {
     "data": {
      "image/png": "[encoded data removed]",
      "text/plain": [
       "<Figure size 432x288 with 1 Axes>"
      ]
     },
     "metadata": {
      "needs_background": "light"
     },
     "output_type": "display_data"
    }
   ],
   "source": [
    "plot(np.array(range(1, 21)),\n",
    "     dataframe.groupby(\"Threads\")[\"Time\"].mean(),\n",
    "     dataframe.groupby(\"Threads\")[\"Time\"].std(),\n",
    "     \"Performance del filtro brillo según la cantidad de threads usados.\",\n",
    "     \"Threads (u)\",\n",
    "     \"Tiempo (s)\")"
   ]
  },
  {
   "cell_type": "code",
   "execution_count": null,
   "metadata": {},
   "outputs": [],
   "source": []
  }
 ],
 "metadata": {
  "kernelspec": {
   "display_name": "Python 3",
   "language": "python",
   "name": "python3"
  },
  "language_info": {
   "codemirror_mode": {
    "name": "ipython",
    "version": 3
   },
   "file_extension": ".py",
   "mimetype": "text/x-python",
   "name": "python",
   "nbconvert_exporter": "python",
   "pygments_lexer": "ipython3",
   "version": "3.6.9"
  }
 },
 "nbformat": 4,
 "nbformat_minor": 4
}
